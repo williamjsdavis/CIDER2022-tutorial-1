{
  "cells": [
    {
      "cell_type": "markdown",
      "metadata": {
        "id": "RcqsPTo01gaz"
      },
      "source": [
        "\n",
        "# Mauna Loa CO2 data\n",
        "\n",
        "This example plots the monthly average atmospheric\n",
        "CO2 concentrations (in parts per million by volume (ppm)) collected at the\n",
        "[Mauna Loa Observatory in Hawaii](https://scrippsco2.ucsd.edu/), between 1958 and 2001. \n"
      ]
    },
    {
      "cell_type": "markdown",
      "metadata": {
        "id": "e5-ryBfZ1ga3"
      },
      "source": [
        "## Get the dataset\n",
        "\n",
        "We will derive a dataset from the Mauna Loa Observatory that collected air\n",
        "samples. We are interested in estimating the concentration of CO2 and\n",
        "extrapolate it for further year. First, we load the original dataset from Scripps\n",
        "\n",
        "`\"https://scrippsco2.ucsd.edu/assets/data/atmospheric/stations/in_situ_co2/monthly/monthly_in_situ_co2_mlo.csv\"`\n",
        "\n"
      ]
    },
    {
      "cell_type": "code",
      "source": [
        "%env LOC=https://scrippsco2.ucsd.edu/assets/data/atmospheric/stations/in_situ_co2/monthly/monthly_in_situ_co2_mlo.csv"
      ],
      "metadata": {
        "id": "1Ys993BPE-wc"
      },
      "execution_count": null,
      "outputs": []
    },
    {
      "cell_type": "code",
      "source": [
        "!curl $LOC -o data.csv"
      ],
      "metadata": {
        "id": "Aw1bUq47ET2X"
      },
      "execution_count": null,
      "outputs": []
    },
    {
      "cell_type": "code",
      "source": [
        "!head -n 65 data.csv"
      ],
      "metadata": {
        "id": "XGWVzTbBIv9X"
      },
      "execution_count": null,
      "outputs": []
    },
    {
      "cell_type": "code",
      "source": [
        "import pandas as pd"
      ],
      "metadata": {
        "id": "j26wdjOEEGOv"
      },
      "execution_count": null,
      "outputs": []
    },
    {
      "cell_type": "code",
      "source": [
        "co2 = pd.read_csv(\"./data.csv\", header=None, skiprows=59, nrows=770)\n",
        "co2"
      ],
      "metadata": {
        "id": "xS4tNEp2GYHl"
      },
      "execution_count": null,
      "outputs": []
    },
    {
      "cell_type": "markdown",
      "metadata": {
        "id": "gkp2-pff1ga6"
      },
      "source": [
        "First, we process the original dataframe to create a date index and select\n",
        "only the CO2 column.\n",
        "\n"
      ]
    },
    {
      "cell_type": "code",
      "execution_count": null,
      "metadata": {
        "id": "bxi11Yxo1ga5"
      },
      "outputs": [],
      "source": [
        "co2_data = co2.rename(columns = {3 : \"Date\", 8 : \"CO2\"})[['Date', 'CO2']]\n",
        "co2_data"
      ]
    },
    {
      "cell_type": "markdown",
      "metadata": {
        "id": "T6HWVyD71ga8"
      },
      "source": [
        "We see that we get CO2 concentration for some days from March, 1958 to\n",
        "December, 2001. We can plot these raw information to have a better\n",
        "understanding.\n",
        "\n"
      ]
    },
    {
      "cell_type": "code",
      "source": [
        "import matplotlib.pyplot as plt"
      ],
      "metadata": {
        "id": "jvufWeItKW_5"
      },
      "execution_count": null,
      "outputs": []
    },
    {
      "cell_type": "code",
      "execution_count": null,
      "metadata": {
        "id": "irNXWoi61ga9"
      },
      "outputs": [],
      "source": [
        "plt.plot(co2_data[\"Date\"],co2_data[\"CO2\"])\n",
        "plt.ylabel(\"CO$_2$ concentration (ppm)\")\n",
        "_ = plt.title(\"Raw air samples measurements from the Mauna Loa Observatory\")"
      ]
    },
    {
      "cell_type": "markdown",
      "source": [
        "# Alternative method of getting data\n",
        "\n",
        "Upload the file `monthly_merge_co2_spo.csv` from the github page"
      ],
      "metadata": {
        "id": "jfzzx1QTLM5M"
      }
    },
    {
      "cell_type": "code",
      "source": [
        "spo_filename = \"monthly_merge_co2_spo.csv\""
      ],
      "metadata": {
        "id": "UwRVYBtr4IeK"
      },
      "execution_count": null,
      "outputs": []
    },
    {
      "cell_type": "code",
      "source": [
        "!head -n 65 monthly_merge_co2_spo.csv"
      ],
      "metadata": {
        "id": "ffBZObFxMC1w"
      },
      "execution_count": null,
      "outputs": []
    },
    {
      "cell_type": "code",
      "source": [
        "co2_spo = pd.read_csv(spo_filename, header=None, skiprows=59)\n",
        "co2_spo"
      ],
      "metadata": {
        "id": "zcoaa4BYMH2-"
      },
      "execution_count": null,
      "outputs": []
    },
    {
      "cell_type": "code",
      "source": [
        "co2_spo_data = co2_spo.rename(columns = {3 : \"Date\", 9 : \"CO2\"})[['Date', 'CO2']]\n",
        "co2_spo_data"
      ],
      "metadata": {
        "id": "tmn6GY2lMV0u"
      },
      "execution_count": null,
      "outputs": []
    },
    {
      "cell_type": "code",
      "source": [
        "plt.plot(co2_data[\"Date\"],co2_data[\"CO2\"], label=\"mlo\")\n",
        "plt.plot(co2_spo_data[\"Date\"],co2_spo_data[\"CO2\"], label=\"spo\")\n",
        "plt.ylabel(\"CO$_2$ concentration (ppm)\")\n",
        "plt.legend()\n",
        "_ = plt.title(\"Raw air samples measurements from the Mauna Loa Observatory\")"
      ],
      "metadata": {
        "id": "cwQeMiDxMsjr"
      },
      "execution_count": null,
      "outputs": []
    },
    {
      "cell_type": "code",
      "source": [
        ""
      ],
      "metadata": {
        "id": "oUice3xPM7b4"
      },
      "execution_count": null,
      "outputs": []
    }
  ],
  "metadata": {
    "kernelspec": {
      "display_name": "Python 3",
      "language": "python",
      "name": "python3"
    },
    "language_info": {
      "codemirror_mode": {
        "name": "ipython",
        "version": 3
      },
      "file_extension": ".py",
      "mimetype": "text/x-python",
      "name": "python",
      "nbconvert_exporter": "python",
      "pygments_lexer": "ipython3",
      "version": "3.9.12"
    },
    "colab": {
      "name": "plot_co2.ipynb",
      "provenance": []
    }
  },
  "nbformat": 4,
  "nbformat_minor": 0
}