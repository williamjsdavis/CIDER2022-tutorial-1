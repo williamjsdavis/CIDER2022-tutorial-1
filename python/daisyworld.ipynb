{
  "cells": [
    {
      "cell_type": "markdown",
      "metadata": {
        "id": "gk8sDWev8HHp"
      },
      "source": [
        "# Welcome to Daisyworld\n",
        "**Modified from: Daisyworld Exercise, Roelof Rietbroek, updated Jan 2020**\n",
        "\n",
        "Daisyworld [1] is an hypothetical planet which has only 2 types of organisms. white and black daisies. These daisies differ in that they reflect sunlight in different amounts, and one can guess that white daisies reflect sunlight much better than black daisies. Because of these reflection characteristics (albedo) they can alter the climate of the planet given an amount of incoming solar radiation. \n",
        "\n",
        "Interestingly, the daisies can reproduce themselves and the rate at which this is happening depends on the local temperature close to the daisies. This creates an interesting feedback mechanism which is going to be studied in this exercise.\n",
        "\n",
        "## Performing the exercise\n",
        "This exercise is intended to give you insights in the concepts of albedo , Stefan Boltzmann law and the non-linear systems. Another intention is to allow you to gain some programming experience in python.\n",
        "\n",
        "This exercise consists of implementing the [Equations of Daisyworld](#the-equations-of-daisyworld), and subsequently executing an experiment to see how the planet responds to different solar forcing."
      ]
    },
    {
      "cell_type": "markdown",
      "metadata": {
        "id": "pswLzgcO8HHs"
      },
      "source": [
        "# The Equations of Daisyworld <a name=\"equations-of-daisyworld\"></a>\n",
        "\n",
        "## Representing the state of the planet\n",
        "The state of daisyworld can be put in the so called state-vector, $\\textbf{x}$:\n",
        "\n",
        "$$\n",
        "\\textbf{x}=\\left[\\begin{array}{c}T_{p}\\\\T_{w}\\\\T_{b}\\\\S_{u}\\\\S_{w}\\\\S_{b}\\\\A_{p}\\end{array}\\right]\\begin{array}{c} \\text{Temperature of the planet}\\\\\n",
        "\\text{Local temperature at the white daisies}\\\\\n",
        "\\text{Local temperature at the black daisies}\\\\\n",
        "\\text{Uninhabited surface (0..1)}\\\\\n",
        "\\text{Surface populated by white daisies (0..1)}\\\\\n",
        "\\text{Surface populated by black daisies(0..1)}\\\\\n",
        "\\text{Albedo of the planet}\\end{array}$$\n",
        "\n",
        "One aim of the exercise is to write a function [yielding the next state](#update-the-planetary-state-vector), which\n",
        "depends on the previous one, given a fixed solar flux, $F$, as input:\n",
        "\n",
        "$\\textbf{x}_{i+1}=f(\\textbf{x}_{i},F)$. \n",
        "\n",
        "The nonlinear function $f$,\n",
        "contains [4 steps as described below](#building-daisyworld). In this exercise, one may use the\n",
        "constants as provided in the [table 1](#table-1-daisyworld-constants).\n"
      ]
    },
    {
      "cell_type": "markdown",
      "metadata": {
        "collapsed": true,
        "id": "1-qt2AEv8HHt"
      },
      "source": [
        "### Table 1: Daisyworld constants\n",
        "<a name=\"table-1-daisyworld-constants\"></a>\n",
        "\n",
        "| Parameter  | Value      | Units | Description    |\n",
        "| :---------- | :----------: | :-----: | :------------------------ |\n",
        "| $A_{u}$| 0.5 | [-] | Albedo of barren area |\n",
        "| $A_{w}$| 0.75 | [-] | Albedo of regions with white daisies|\n",
        "|$A_{b}$| 0.25 | [-] | Albedo of regions with black daisies|\n",
        "|$\\sigma$|5.670373$\\cdot10^{-8}$|  $[W m^{-2} K^{-4}]$ | Stefan Boltzmann constant| \n",
        "|$c_{ins}$| 0.2 | [-] | Insulation parameter|\n",
        "|$F_{sun}^{nom}$|3668 | $[Wm^{-2}]$ |  Nominal solar flux at the planet|\n",
        "|$T_{opt}$| 22.5 | $[^{\\circ} C]$ | Optimal growing temperature|\n",
        "|$T_{min}$| 5 | $[^{\\circ} C]$ | Minimum growing temperature|\n",
        "|$T_{max}$| 40 | $[^{\\circ} C]$ | Maximum growing temperature|\n",
        "|$D$| 0.3| [-] | death rate of the diasies|\n",
        "\n"
      ]
    },
    {
      "cell_type": "markdown",
      "metadata": {
        "id": "O9pIMKUp8HHv"
      },
      "source": [
        "## Building Daisyworld <a name=\"building-daisyworld\"></a>\n",
        "### Setting up the Python preliminaries\n",
        "To load the necessary python modules, and to enter the data from [table 1](#table-1-daisyworld-constants). The code below should be executed at the start\n"
      ]
    },
    {
      "cell_type": "code",
      "execution_count": 1,
      "metadata": {
        "id": "fy5WP9ON8HHw"
      },
      "outputs": [],
      "source": [
        "#preliminaries\n",
        "\n",
        "#Load modules\n",
        "import numpy as np\n",
        "\n",
        "#plotting library\n",
        "import matplotlib.pyplot as plt\n",
        "\n",
        "##################\n",
        "#SETUP constants according to table 1\n",
        "\n",
        "#Stefan Boltzmann constant\n",
        "sig=5.670373e-8 # W m^-2 K^-4\n",
        "\n",
        "#Insulation factor (0...1)\n",
        "ins_p=0.2\n",
        "\n",
        "#Emmissivity of the Planet (optional)\n",
        "em_p=1\n",
        "\n",
        "# ratio of cross section versus surface area of the Planet\n",
        "rat=1/4\n",
        "\n",
        "# Albedo vector [uninhabitated Planet , White daisies, Black daisies]\n",
        "Albedo={'none':0.5,\"w\": 0.75,\"b\": 0.25}\n",
        "\n",
        "## growth optimum Temp of the white daisies\n",
        "T_opt={\"w\":22.5+273.15} # in Kelvin\n",
        "T_min={\"w\":273.15+5} # no growth below this temperature\n",
        "# death rate of White daisies (fraction)\n",
        "death={\"w\":0.3}\n",
        "\n",
        "#assume the same growth curve for Black daisies (change if needed)\n",
        "T_opt[\"b\"]=T_opt[\"w\"]\n",
        "T_min[\"b\"]=T_min[\"w\"]\n",
        "death[\"b\"]=death[\"w\"]\n",
        "\n",
        "#minimum area as a fractiont occupied by each species\n",
        "# (to allow reasonable recovery times)\n",
        "minarea=0.01\n",
        "\n",
        "#nominal Flux in W/m^2\n",
        "Fsnom=3668\n",
        "\n",
        "##############################\n"
      ]
    },
    {
      "cell_type": "markdown",
      "metadata": {
        "collapsed": true,
        "id": "LaWIp-7h8HHy"
      },
      "source": [
        "### Step 1 Calculating the Planet's albedo\n",
        "The Albedo of the planet is the area-weighted sum of the albedos of the\n",
        "different coverages (see [table 1](#table-1-daisyworld-constants)):\n",
        "$$\n",
        "A_{p}=S_{u}A_{u}+S_{w}A_{w}+S_{b}A_{b}\n",
        "$$\n",
        "In python, we can now write a function (`UpdateAlbedo`) which computes the albedo and updates the planetary state function accordingly. Note that the state vector is assumed to be a [python dictionary](https://docs.python.org/3/tutorial/datastructures.html#dictionaries), which allows elements to be indexed by a name rather than a number."
      ]
    },
    {
      "cell_type": "code",
      "execution_count": 2,
      "metadata": {
        "id": "E27rsk-N8HHz"
      },
      "outputs": [],
      "source": [
        "# define a function which updates the planetary albedo of the state vector (last entry)\n",
        "#Note that the state vector x is assumed to be a python dictionary\n",
        "def UpdateAlbedo(x):\n",
        "    #weighted sum of different planet cover\n",
        "    x[\"Ap\"]=Albedo[\"none\"]*x[\"Su\"]+\\\n",
        "    Albedo[\"w\"]*x[\"Sw\"]+\\\n",
        "    Albedo[\"b\"]*x[\"Sb\"]\n",
        "\n",
        "\n",
        "    \n",
        "    "
      ]
    },
    {
      "cell_type": "markdown",
      "metadata": {
        "id": "XMQgpRvJ8HH1"
      },
      "source": [
        "### Step 2 Calculating the Planet's temperature\n",
        "In this exercise we assume that the absorbed energy equals the\n",
        "outgoing energy. The flux which is absorbed by the planet and thus als radiated away in the long wavelength spectrum, $F_{p}$,\n",
        "depends on the albedo and the ratio of the illuminated area versus the\n",
        "total surface area. The input flux at the planets orbit is denoted by $F_{sun}$.\n",
        "\n",
        "$$\n",
        "F_{p}= F_{sun}\\frac{(1-A_{p})}{4}\n",
        "$$\n",
        "\n",
        "When assuming that the planet behaves as a Black body  we may use\n",
        "Stefan-Boltzmann law to calculate the planet's global temperature.\n",
        "\n",
        "$$\n",
        "T_{p}=\\sqrt[4]{\\frac{F_{p}}{\\sigma}}\n",
        "$$"
      ]
    },
    {
      "cell_type": "markdown",
      "metadata": {
        "id": "yVuOuuOr8HH2"
      },
      "source": [
        "### Step 3 Calculating the local temperature at the daisies\n",
        "If the planet would be a perfect insulator, regions with black and\n",
        "white daisies would have a different temperature, and they\n",
        "would behave as if the whole planet was covered with black or white\n",
        "daisies respectively. In contrast, if the planet would be a perfect\n",
        "conductor the temperature would be constant over the complete\n",
        "planet. In this exercise, we will use a situation which is somewhere\n",
        "in between a perfect insulator and a perfect conductor. This can be\n",
        "steered with the insulation parameter, $c_{ins}$, which yields a\n",
        "perfect insulator when $c_{ins}=1$ versus a perfect conductor when\n",
        "$c_{ins}=0$.  The temperature in regions of white daisies can be calculated as follows:\n",
        "\n",
        "$$\n",
        "T_{w}=\\sqrt[4]{c_{ins}\\frac{F_{w}-F_{p}}{\\sigma}+\\frac{F_{p}}{\\sigma}}\n",
        "$$\n",
        "\n",
        "Here the flux $F_{w}$ is calculated similar to $F_{p}$ except that the\n",
        "albedo of the white daisies is used. Similarly, in regions of black daisies the local temperature can be\n",
        "calculated according to:\n",
        "\n",
        "$$\n",
        "T_{b}=\\sqrt[4]{c_{ins}\\frac{F_{b}-F_{p}}{\\sigma}+\\frac{F_{p}}{\\sigma}}\n",
        "$$\n",
        "\n",
        "Step 2 and 3 are now combined in a single function (`UpdateTemp`) which updates the planetary state vector"
      ]
    },
    {
      "cell_type": "code",
      "execution_count": 3,
      "metadata": {
        "id": "tc1ZUV5N8HH3"
      },
      "outputs": [],
      "source": [
        "#function to update the state vector for the planetary temperature (step 2 &3 above)\n",
        "def UpdateTemp(x,F):\n",
        "    \n",
        "    # outward flux of a planet with the average albedo (assume Black body)\n",
        "    Fp=F*(1-x[\"Ap\"])*rat/em_p  \n",
        "\n",
        "    \n",
        "    #invert Stefan Boltzmann's law\n",
        "    x[\"Tp\"]=np.sqrt(np.sqrt((Fp/sig)))\n",
        "    \n",
        "    #now do the same for the regions with white and black daisies\n",
        "    Fw=F*(1-Albedo[\"w\"])*rat/em_p\n",
        "    x[\"Tw\"]=np.sqrt(np.sqrt((ins_p*(Fw-Fp)+Fp)/sig))\n",
        "    \n",
        "    #now do the same for the regions with white and black daisies\n",
        "    Fb=F*(1-Albedo[\"b\"])*rat/em_p\n",
        "    x[\"Tb\"]=np.sqrt(np.sqrt((ins_p*(Fb-Fp)+Fp)/sig))\n",
        "     \n",
        "    \n",
        "    "
      ]
    },
    {
      "cell_type": "markdown",
      "metadata": {
        "id": "VDtlUVhE8HH5"
      },
      "source": [
        "### Step 4 Calculating the growth of the daisies\n",
        "From ecological studies, one has found that the growth of many plants follow a\n",
        "quadratic dependence on temperature. There exists a certain\n",
        "temperature which yields the strongest growth, while above and below\n",
        "certain temperatures no growth is possible at all. For this exercise,\n",
        "we assume that the parabolic growth curve, $G(T)$, is the same for both black\n",
        "and white daisies. The daisies\n",
        "have an optimum growing temperature of 22.5$^{\\circ}$ C while below 5\n",
        "degrees and above 40 degrees no growth exists.\n",
        "$$\n",
        "G(T)=\\left\\{ \\begin{array}{ll} 1-\\left(\\frac{T-T_{opt}}{T_{min}-T_{opt}}\\right)^{2}&T_{min}<=T<=T_{max}\\\\0& \\text{elsewhere}\\end{array}\\right.\n",
        "$$\n",
        "\n",
        "Using local temperatures with this growth curve one can determine the new surface area\n",
        "populated by white daisies:\n",
        "\n",
        "$$\n",
        "S_{w}^{i+1}=S_{w}^{i}+S_{w}^{i}\\left(G(T_{w})S_{u}^{i}-D\\right)\n",
        "$$\n",
        "\n",
        "In the above formula one can see that several factors play a role for\n",
        "the next generation of daisies. The symbol $D$ denotes the death rate\n",
        "of the daisies, meaning that for every generation, a certain portion will\n",
        "die off. Secondly, the growth also depends on the barren area\n",
        "available for new daisies. Thirdly, if the previous region populated\n",
        "by daisies is large, there will also be a large production of seeds,\n",
        "which explains the dependence on $S_{w}$. For the black daisies, one\n",
        "can use the same formula with the subscript $_{w}$ exchanged by\n",
        "$_{b}$.\n",
        "\n",
        "To allow daisies to recover quickly enough we will artificially set\n",
        "the daisy area to a 1% as soon as it becomes smaller than 1%.\n",
        "The remaining barren area can then be calculated according to:\n",
        "\n",
        "$$\n",
        "S_{u}=1-S_{b}-S_{w}\n",
        "$$\n",
        "\n",
        "tip: also allow your function to handle the case where no\n",
        "daisies exist at all (cf. an uninhabitated planet)\n",
        "\n",
        "A python implementation of the above could look like this:"
      ]
    },
    {
      "cell_type": "code",
      "execution_count": 4,
      "metadata": {
        "scrolled": true,
        "colab": {
          "base_uri": "https://localhost:8080/",
          "height": 312
        },
        "id": "lrapHnq58HH7",
        "outputId": "73d0ead9-2420-4b2e-c50c-432026438b39"
      },
      "outputs": [
        {
          "output_type": "execute_result",
          "data": {
            "text/plain": [
              "<matplotlib.legend.Legend at 0x7f1cacaa2550>"
            ]
          },
          "metadata": {},
          "execution_count": 4
        },
        {
          "output_type": "display_data",
          "data": {
            "text/plain": [
              "<Figure size 1152x288 with 1 Axes>"
            ],
            "image/png": "[encoded data removed]"
          },
          "metadata": {
            "needs_background": "light"
          }
        }
      ],
      "source": [
        "# get the growth rate of the Daisies\n",
        "\n",
        "def DaisyGrowth(T,bwtype):\n",
        "    Gw=1-((T-T_opt[bwtype])/(T_min[bwtype]-T_opt[bwtype]))**2;\n",
        "    #set negative values to 0\n",
        "    if Gw <0:\n",
        "        return 0\n",
        "    else:\n",
        "        return Gw\n",
        "## Intermezzo plot \n",
        "#how does the growth curve of the Daisies look like?\n",
        "gw=[]\n",
        "gb=[]\n",
        "#amount of intervals to plot\n",
        "nt=20\n",
        "\n",
        "t0=0\n",
        "t1=45\n",
        "dT=(t1-t0)/nt\n",
        "tempv=[t0+i*dT for i in range(nt)]\n",
        "\n",
        "for t in tempv:\n",
        "    gw.append(DaisyGrowth(t+273.15,\"w\"))\n",
        "    gb.append(DaisyGrowth(t+273.15,\"b\"))\n",
        "\n",
        "%matplotlib inline\n",
        "plt.figure(1,figsize=(16,4))\n",
        "plt.plot(tempv,gw,'b--',label='White daisies')\n",
        "plt.plot(tempv,gb,'ro',label='Black daisies')\n",
        "plt.xlabel(\"temp deg C\")\n",
        "plt.ylabel(\"ratio\")\n",
        "plt.title(\"Growth curve of Daisies\")\n",
        "plt.legend()\n",
        "\n",
        "\n",
        "\n",
        "\n",
        "\n",
        "    \n"
      ]
    },
    {
      "cell_type": "code",
      "execution_count": 5,
      "metadata": {
        "id": "me1BmzYE8HH8"
      },
      "outputs": [],
      "source": [
        "#function to update areas based on growth rate and death rate\n",
        "def UpdateAreas(x):\n",
        "    \n",
        "    for Stype in [\"w\",\"b\"]:\n",
        "        grwth=DaisyGrowth(x[\"T\"+Stype],Stype)\n",
        "        ArType=\"S\"+Stype\n",
        "        Ds=x[ArType]*(grwth*x[\"Su\"]-death[Stype]);\n",
        "        # the following code applies 2 checks\n",
        "        # (1) keep the area to zero if it has been \n",
        "        # articifically set to exactly zero\n",
        "        if x[ArType] > 0:\n",
        "            x[ArType]+=Ds\n",
        "            # (2) apply the minimum area if the area comes below the threshold\n",
        "            if x[ArType] < minarea:\n",
        "                x[ArType]=minarea\n",
        "            \n",
        "    #update barren area (that what is left)\n",
        "    x[\"Su\"]=1-x[\"Sw\"]-x[\"Sb\"]"
      ]
    },
    {
      "cell_type": "markdown",
      "metadata": {
        "id": "oFHavdik8HH8"
      },
      "source": [
        "###  <a name=\"update-the-planetary-state-vector\"></a> Update the planetary state vector\n",
        "we can now gather the different functions to make a function which updates the state vector\n"
      ]
    },
    {
      "cell_type": "code",
      "execution_count": 6,
      "metadata": {
        "id": "XjQwlvau8HH9"
      },
      "outputs": [],
      "source": [
        "def NextState(x,F):\n",
        "    #make a copy of the previous statevector to work on\n",
        "    xnew=x.copy()\n",
        "    UpdateTemp(xnew,F)\n",
        "    UpdateAreas(xnew)\n",
        "    UpdateAlbedo(xnew)\n",
        "    return xnew"
      ]
    },
    {
      "cell_type": "markdown",
      "metadata": {
        "id": "Vh2rO-aU8HH-"
      },
      "source": [
        "# Experiment: convergence to equilibrium\n",
        "\n",
        "In this experiment, we will maintain a constant solar flux which is 1.0\n",
        "times the nominal solar flux, $1.0F_{s}^{nom}$. The initial surface is\n",
        "populated with 1% white daisies and  1% black daisies, whereas the\n",
        "rest is uninhabited.\n",
        "\n",
        "Starting from the above initial situation, calculate the first 40\n",
        "generations of daisies.\n",
        "\n",
        "* Plot the temperatures $T_{p}$, $T_{w}$,$T_{b}$ ( on the Y axis) against the generation number (X axis).\n",
        "* Plot the Surface ratios $S_{u}$, $S_{w}$,$S_{b}$ ( on the Y  axis) against the generation number (X axis).\n",
        "* Also plot the variations of the planet's albedo $A_{p}$.\n",
        "* How many generations are needed to obtain an equilibrium temperature (eg. global temperature changes with less then 0.05 K)?\n",
        "* Is the equilibrium state unique? To investigate this, change the\n",
        "  initial daisy coverage to something else (eg. 95% white Daisies or\n",
        "  95% Black Daisies). Does the same apply to a situation where we\n",
        "  have a solar flux of $1.3F_{s}^{nom}$?\n"
      ]
    },
    {
      "cell_type": "code",
      "execution_count": 7,
      "metadata": {
        "colab": {
          "base_uri": "https://localhost:8080/",
          "height": 683
        },
        "id": "49KXzqJ78HH-",
        "outputId": "6d1c6656-1328-4399-d8b2-0024e68c03c9"
      },
      "outputs": [
        {
          "output_type": "display_data",
          "data": {
            "text/plain": [
              "<Figure size 576x360 with 1 Axes>"
            ],
            "image/png": "[encoded data removed]"
          },
          "metadata": {
            "needs_background": "light"
          }
        },
        {
          "output_type": "display_data",
          "data": {
            "text/plain": [
              "<Figure size 576x360 with 1 Axes>"
            ],
            "image/png": "[encoded data removed]"
          },
          "metadata": {
            "needs_background": "light"
          }
        }
      ],
      "source": [
        "#First experiment\n",
        "\n",
        "#solar radiation\n",
        "F=Fsnom*1\n",
        "\n",
        "\n",
        "#initial condition state vector\n",
        "x0={}\n",
        "x0[\"Sw\"]=0.01\n",
        "x0[\"Sb\"]=0.01\n",
        "x0[\"Su\"]=1-x0[\"Sw\"]-x0[\"Sb\"]\n",
        "#note that we also need to initiate the planetary Albedo\n",
        "UpdateAlbedo(x0)\n",
        "#and the temperature\n",
        "UpdateTemp(x0,F)\n",
        "\n",
        "\n",
        "#loop over generations\n",
        "ngen=40\n",
        "\n",
        "xgens=[]\n",
        "xgens.append(x0)\n",
        "for g in range(ngen-1):\n",
        "    xgens.append(NextState(xgens[-1],F))\n",
        "\n",
        "gens=[i for i in range(ngen)]\n",
        "\n",
        "\n",
        "#plot temperature\n",
        "plt.figure(1,figsize=(8,5))\n",
        "plt.plot(gens,[x[\"Tw\"]-273.15 for x in xgens],\n",
        "         label=\"White daisies temperature\")\n",
        "plt.plot(gens,[x[\"Tb\"]-273.15 for x in xgens],\n",
        "         label=\"Black daisies temperature\")\n",
        "plt.plot(gens,[x[\"Tp\"]-273.15 for x in xgens],\n",
        "         label=\"Planets temperature\")\n",
        "plt.xlabel(\"generation number\")\n",
        "plt.ylabel(\"Degs C\")\n",
        "plt.title(\"Temperature with generation\")\n",
        "plt.legend()\n",
        "\n",
        "#plot surface areas\n",
        "plt.figure(2,figsize=(8,5))\n",
        "plt.plot(gens,[x[\"Sw\"] for x in xgens],\n",
        "         label=\"White daisies area\")\n",
        "plt.plot(gens,[x[\"Sb\"] for x in xgens],\n",
        "         label=\"Black daisies area\")\n",
        "plt.plot(gens,[x[\"Su\"] for x in xgens],\n",
        "         label=\"Uninhabitated area\")\n",
        "plt.xlabel(\"generation number\")\n",
        "plt.ylabel(\"fractional area\")\n",
        "plt.title(\"surface area with generation\")\n",
        "plt.legend();"
      ]
    },
    {
      "cell_type": "code",
      "execution_count": 8,
      "metadata": {
        "colab": {
          "base_uri": "https://localhost:8080/",
          "height": 350
        },
        "id": "bFbqBIOk8HIA",
        "outputId": "33b62d2a-ea93-4f0e-829e-3083f79b1008"
      },
      "outputs": [
        {
          "output_type": "display_data",
          "data": {
            "text/plain": [
              "<Figure size 576x360 with 1 Axes>"
            ],
            "image/png": "[encoded data removed]"
          },
          "metadata": {
            "needs_background": "light"
          }
        }
      ],
      "source": [
        "#plot the planet's albedo\n",
        "plt.figure(3,figsize=(8,5))\n",
        "plt.plot(gens,[x[\"Ap\"] for x in xgens],label=\"planetary albedo\")\n",
        "plt.xlabel(\"generation number\")\n",
        "plt.ylabel(\"fraction\")\n",
        "plt.title(\"planetary Albedo\");"
      ]
    },
    {
      "cell_type": "markdown",
      "source": [
        "## Saving results"
      ],
      "metadata": {
        "id": "niZgXXHy9b9y"
      }
    },
    {
      "cell_type": "code",
      "source": [
        "surface_areas = [[x[\"Sw\"],x[\"Sb\"],x[\"Su\"]] for x in xgens]\n",
        "surface_areas"
      ],
      "metadata": {
        "colab": {
          "base_uri": "https://localhost:8080/"
        },
        "id": "Mr_OBJKa9bVj",
        "outputId": "3f82818c-1341-4179-f4b2-b479adf93b27"
      },
      "execution_count": 12,
      "outputs": [
        {
          "output_type": "execute_result",
          "data": {
            "text/plain": [
              "[[0.01, 0.01, 0.98],\n",
              " [0.016390738363701356, 0.012604573424996988, 0.9710046882113017],\n",
              " [0.026677861594112458, 0.01591902685606156, 0.9574031115498259],\n",
              " [0.04293046865934144, 0.020197851046590033, 0.9368716802940685],\n",
              " [0.06782436027106259, 0.02583613288337916, 0.9063395068455582],\n",
              " [0.1040336752126198, 0.03343512168453193, 0.8625312031028483],\n",
              " [0.15237437671233153, 0.043816295911951936, 0.8038093273757165],\n",
              " [0.2086114865561136, 0.05782774654436935, 0.733560766899517],\n",
              " [0.26212122358199375, 0.0758160733208714, 0.6620627030971349],\n",
              " [0.3023843888181695, 0.09714488158898568, 0.6004707295928449],\n",
              " [0.3281547543967958, 0.12046159286783378, 0.5513836527353705],\n",
              " [0.3447234252110236, 0.14423074784458928, 0.5110458269443872],\n",
              " [0.35630311968719613, 0.16686973794868568, 0.47682714236411816],\n",
              " [0.3646265848708492, 0.18696363423316675, 0.44840978089598404],\n",
              " [0.37034538761731994, 0.20361939727485534, 0.4260352151078247],\n",
              " [0.3739433963474064, 0.21662089800209844, 0.4094357056504952],\n",
              " [0.3759627765059849, 0.2262957256709519, 0.3977414978230631],\n",
              " [0.3769368048731047, 0.2332473934701864, 0.3898158016567088],\n",
              " [0.3772965404471892, 0.23812476357858328, 0.38457869597422756],\n",
              " [0.37733857526254155, 0.24149493204014008, 0.3811664926973184],\n",
              " [0.3772421604076923, 0.2438021714241526, 0.37895566816815507],\n",
              " [0.3771037235291682, 0.2453733439786851, 0.3775229324921467],\n",
              " [0.3769688179442222, 0.2464402355998653, 0.3765909464559125],\n",
              " [0.37685497894831904, 0.24716371535335896, 0.37598130569832194],\n",
              " [0.3767658784320848, 0.24765406942021892, 0.3755800521476962],\n",
              " [0.3766992323099927, 0.24798639734961128, 0.37531437034039605],\n",
              " [0.376650828223055, 0.24821166140640769, 0.37513751037053733],\n",
              " [0.37661636713063706, 0.24836439034721633, 0.3750192425221466],\n",
              " [0.3765921699451046, 0.24846796670636495, 0.37493986334853047],\n",
              " [0.37657534444095825, 0.24853822545540238, 0.3748864301036393],\n",
              " [0.3765637254753599, 0.248585893293264, 0.37485038123137615],\n",
              " [0.3765557413591869, 0.2486182392174235, 0.3748260194233896],\n",
              " [0.376550274224256, 0.24864019090255918, 0.3748095348731848],\n",
              " [0.3765465399653842, 0.2486550899226485, 0.37479837011196726],\n",
              " [0.3765439938725201, 0.24866520289531366, 0.3747908032321662],\n",
              " [0.37654226009413416, 0.24867206762122657, 0.37478567228463927],\n",
              " [0.37654108052669455, 0.2486767276075746, 0.37478219186573086],\n",
              " [0.3765402785234174, 0.24867989103967317, 0.37477983043690943],\n",
              " [0.3765397334750921, 0.24868203858021276, 0.37477822794469506],\n",
              " [0.37653936317223347, 0.2486834964900723, 0.37477714033769427]]"
            ]
          },
          "metadata": {},
          "execution_count": 12
        }
      ]
    },
    {
      "cell_type": "code",
      "source": [
        "np.savetxt(\"area_output.csv\", surface_areas, delimiter=\",\")"
      ],
      "metadata": {
        "id": "VhjbxWk2-UOQ"
      },
      "execution_count": 14,
      "outputs": []
    },
    {
      "cell_type": "markdown",
      "metadata": {
        "collapsed": true,
        "id": "2dsigquV8HIG"
      },
      "source": [
        "# References\n",
        "[1] A.J. Watson and J.E. Lovelock. Biological homeostasis of the global environment: The parable of Daisyworld. Tellus B, 35(4):284–289, 1983.\n"
      ]
    }
  ],
  "metadata": {
    "kernelspec": {
      "display_name": "Python 3",
      "language": "python",
      "name": "python3"
    },
    "language_info": {
      "codemirror_mode": {
        "name": "ipython",
        "version": 3
      },
      "file_extension": ".py",
      "mimetype": "text/x-python",
      "name": "python",
      "nbconvert_exporter": "python",
      "pygments_lexer": "ipython3",
      "version": "3.8.2"
    },
    "colab": {
      "name": "daisyworld.ipynb",
      "provenance": []
    }
  },
  "nbformat": 4,
  "nbformat_minor": 0
}